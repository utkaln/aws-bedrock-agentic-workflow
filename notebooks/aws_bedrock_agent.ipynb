{
 "cells": [
  {
   "cell_type": "markdown",
   "metadata": {},
   "source": [
    "### Create AWS Bedrock Agent Workflow\n",
    "#### Requirements\n"
   ]
  },
  {
   "cell_type": "code",
   "execution_count": 17,
   "metadata": {},
   "outputs": [
    {
     "data": {
      "text/plain": [
       "{'ResponseMetadata': {'RequestId': '5d2c6ed8-85ec-4bab-bd76-88775a0e01a1',\n",
       "  'HTTPStatusCode': 200,\n",
       "  'HTTPHeaders': {'date': 'Tue, 18 Feb 2025 05:57:37 GMT',\n",
       "   'x-amzn-requestid': '5d2c6ed8-85ec-4bab-bd76-88775a0e01a1',\n",
       "   'content-type': 'text/xml',\n",
       "   'content-length': '212'},\n",
       "  'RetryAttempts': 0}}"
      ]
     },
     "execution_count": 17,
     "metadata": {},
     "output_type": "execute_result"
    }
   ],
   "source": [
    "import boto3\n",
    "import os\n",
    "import json\n",
    "from dotenv import load_dotenv\n",
    "load_dotenv()\n",
    "\n",
    "\n",
    "# Create IAM Role required for Bedrock Agent\n",
    "session = boto3.Session()\n",
    "identity = session.client('sts').get_caller_identity()\n",
    "account_number = identity['Account']\n",
    "aws_region = os.environ['AWS_REGION']\n",
    "bedrock_model = os.environ['BEDROCK_MODEL']\n",
    "bedrock_policy_arn = os.environ['BEDROCK_POLICY_ARN']\n",
    "\n",
    "\n",
    "# define trust relationship policy document\n",
    "bedrock_trust_policy = {\n",
    "    \"Version\": \"2012-10-17\",\n",
    "    \"Statement\": [{\n",
    "        \"Effect\": \"Allow\",\n",
    "        \"Principal\": {\n",
    "            \"Service\": \"bedrock.amazonaws.com\"\n",
    "        },\n",
    "        \"Action\": \"sts:AssumeRole\",\n",
    "        \"Condition\": {\n",
    "            \"StringEquals\": {\n",
    "                \"aws:SourceAccount\": \"196215119328\"\n",
    "            },\n",
    "            \"ArnLike\": {\n",
    "                \"AWS:SourceArn\": \"arn:aws:bedrock:us-east-1:196215119328:agent/*\"\n",
    "            }\n",
    "        }\n",
    "    }]\n",
    "}\n",
    "\n",
    "\n",
    "\n",
    "\n",
    "\n",
    "# Create IAM Role\n",
    "iam_client = session.client('iam')\n",
    "response = iam_client.create_role(\n",
    "    RoleName='BedrockAgentRole',\n",
    "    AssumeRolePolicyDocument=json.dumps(bedrock_trust_policy),\n",
    "    Description='Role for Bedrock Agent',\n",
    ")\n",
    "role_arn = response['Role']['Arn']\n",
    "\n",
    "\n",
    "iam_client.attach_role_policy(\n",
    "    RoleName='BedrockAgentRole',\n",
    "    PolicyArn=bedrock_policy_arn,\n",
    ") "
   ]
  },
  {
   "cell_type": "code",
   "execution_count": null,
   "metadata": {},
   "outputs": [],
   "source": [
    "\n",
    "# Define bedrock agent\n",
    "bedrock_agent = boto3.client(service_name='bedrock-agent', region_name='us-east-1')\n",
    "create_agent_response = bedrock_agent.create_agent(\n",
    "    agentName='event-registration-customer-support',\n",
    "    foundationModel=bedrock_model,\n",
    "    agentResourceRoleArn=role_arn,\n",
    "    instruction=\"\"\" You are an advanced AI agent acting as a front line customer support agent for an event. Customers are going to ask you about the event and their registration and stay status. \"\"\",\n",
    ")\n",
    "agent_id = create_agent_response['agent']['agentId']\n",
    "print(f'Agent ID: {agent_id}')"
   ]
  },
  {
   "cell_type": "code",
   "execution_count": 19,
   "metadata": {},
   "outputs": [],
   "source": [
    "# Utility / Helper methods\n",
    "import time\n",
    "def agent_status(agent_id: str, target_status: str):\n",
    "    agent_status = ''\n",
    "    bedrock_agent = boto3.client(service_name='bedrock-agent', region_name='us-east-1')\n",
    "    while agent_status != target_status:\n",
    "        response = bedrock_agent.get_agent(agentId=agent_id)\n",
    "        agent_status = response['agent']['agentStatus']\n",
    "        print(f'Agent status: {agent_status}')\n",
    "        if (agent_status == target_status or agent_status == 'PREPARED'):\n",
    "            return True\n",
    "        time.sleep(5)\n",
    "\n",
    "def agent_alias_status(agent_id: str, agent_alias_id: str, target_status: str):\n",
    "    agent_alias_status = ''\n",
    "    bedrock_agent = boto3.client(service_name='bedrock-agent', region_name='us-east-1')\n",
    "    while agent_alias_status != target_status:\n",
    "        response = bedrock_agent.get_agent_alias(agentId=agent_id, agentAliasId=agent_alias_id)\n",
    "        agent_alias_status = response['agentAlias']['agentAliasStatus']\n",
    "        print(f'Agent Alias status: {agent_alias_status}')\n",
    "        if (agent_alias_status == target_status or agent_alias_status == 'PREPARED'):\n",
    "            return True\n",
    "        time.sleep(5)"
   ]
  },
  {
   "cell_type": "code",
   "execution_count": null,
   "metadata": {},
   "outputs": [],
   "source": [
    "# Check status of agent to become 'CREATING' to 'NOT_PREPARED' \n",
    "agent_status(agent_id, 'NOT_PREPARED')\n",
    "\n",
    "# Once reaches status 'NOT_PREPARED', prepare the agent\n",
    "bedrock_agent.prepare_agent(agentId=agent_id)\n",
    "\n",
    "# Check for status of agent to become 'NOT_PREPARED' to 'PREPARED'\n",
    "agent_status(agent_id, 'PREPARED')\n",
    "\n",
    "# Once agent is status 'PREPARED', deploy the agent with alias name\n",
    "create_agent_alias_response = bedrock_agent.create_agent_alias(\n",
    "    agentId=agent_id,\n",
    "    agentAliasName='Event-Registration-Customer-Support-Alias',\n",
    ")\n",
    "agent_alias_id = create_agent_alias_response['agentAlias']['agentAliasId']\n",
    "print(f'Agent Alias ID: {agent_alias_id}')\n",
    "\n",
    "# Check for status of agent alias to become 'CREATING' to 'NOT_PREPARED'\n",
    "agent_alias_status(agent_id, agent_alias_id, 'PREPARED')\n",
    "\n"
   ]
  }
 ],
 "metadata": {
  "kernelspec": {
   "display_name": ".venv",
   "language": "python",
   "name": "python3"
  },
  "language_info": {
   "codemirror_mode": {
    "name": "ipython",
    "version": 3
   },
   "file_extension": ".py",
   "mimetype": "text/x-python",
   "name": "python",
   "nbconvert_exporter": "python",
   "pygments_lexer": "ipython3",
   "version": "3.13.1"
  }
 },
 "nbformat": 4,
 "nbformat_minor": 2
}
